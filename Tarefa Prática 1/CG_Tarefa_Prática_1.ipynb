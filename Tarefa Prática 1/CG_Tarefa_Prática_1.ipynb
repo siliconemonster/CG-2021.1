{
  "nbformat": 4,
  "nbformat_minor": 0,
  "metadata": {
    "colab": {
      "name": "CG_Tarefa_Prática_1.ipynb",
      "provenance": [],
      "collapsed_sections": []
    },
    "kernelspec": {
      "display_name": "Python 3",
      "name": "python3"
    },
    "language_info": {
      "name": "python"
    }
  },
  "cells": [
    {
      "cell_type": "markdown",
      "metadata": {
        "id": "VuelqOSm60lu"
      },
      "source": [
        "Aline Freire de Rezende<br>116110571"
      ]
    },
    {
      "cell_type": "markdown",
      "metadata": {
        "id": "be76mkpoDHty"
      },
      "source": [
        "Falta corrigir a interseção dos triângulos"
      ]
    },
    {
      "cell_type": "markdown",
      "metadata": {
        "id": "TGh1CRnf6QXm"
      },
      "source": [
        "# Python imports"
      ]
    },
    {
      "cell_type": "code",
      "metadata": {
        "id": "jN2Gm8wVkItc"
      },
      "source": [
        "import numpy as np\n",
        "import scipy as sp\n",
        "from google.colab.patches import cv2_imshow\n",
        "from google.colab import files\n",
        "from matplotlib import patheffects\n",
        "import matplotlib.pyplot as plt\n",
        "import json"
      ],
      "execution_count": 1,
      "outputs": []
    },
    {
      "cell_type": "markdown",
      "metadata": {
        "id": "Iw0wdpexVbHZ"
      },
      "source": [
        "## JSON upload"
      ]
    },
    {
      "cell_type": "code",
      "metadata": {
        "id": "Y7Nx9N5LVapf",
        "colab": {
          "resources": {
            "http://localhost:8080/nbextensions/google.colab/files.js": {
              "data": "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",
              "ok": true,
              "headers": [
                [
                  "content-type",
                  "application/javascript"
                ]
              ],
              "status": 200,
              "status_text": ""
            }
          },
          "base_uri": "https://localhost:8080/",
          "height": 73
        },
        "outputId": "faaa78c6-0a69-4e97-faf9-0a98bd8f5ce3"
      },
      "source": [
        "from google.colab import files\n",
        "uploaded = files.upload()\n",
        "\n",
        "for fn in uploaded.keys():\n",
        "  f = open(fn, )\n",
        "  graphic_data = json.load(f)\n",
        "  print('User uploaded file \"{name}\" with length {length} bytes'.format(name=fn, length=len(uploaded[fn])))"
      ],
      "execution_count": 109,
      "outputs": [
        {
          "output_type": "display_data",
          "data": {
            "text/html": [
              "\n",
              "     <input type=\"file\" id=\"files-b1590a84-df72-402f-a061-93d7ea891d02\" name=\"files[]\" multiple disabled\n",
              "        style=\"border:none\" />\n",
              "     <output id=\"result-b1590a84-df72-402f-a061-93d7ea891d02\">\n",
              "      Upload widget is only available when the cell has been executed in the\n",
              "      current browser session. Please rerun this cell to enable.\n",
              "      </output>\n",
              "      <script src=\"/nbextensions/google.colab/files.js\"></script> "
            ],
            "text/plain": [
              "<IPython.core.display.HTML object>"
            ]
          },
          "metadata": {
            "tags": []
          }
        },
        {
          "output_type": "stream",
          "text": [
            "Saving lion.json to lion (3).json\n",
            "User uploaded file \"lion.json\" with length 162143 bytes\n"
          ],
          "name": "stdout"
        }
      ]
    },
    {
      "cell_type": "markdown",
      "metadata": {
        "id": "X5OYmUAE50vV"
      },
      "source": [
        "# Code (inside test and Screen class)"
      ]
    },
    {
      "cell_type": "code",
      "metadata": {
        "id": "O2BuxbKYJerj"
      },
      "source": [
        "# TRIANGULARIZAÇÃO DO CÍRCULO\n",
        "\n",
        "def circleTriangulation(circle):\n",
        "  '''Executa a triangularização de um círculo\n",
        "  \n",
        "  Args:\n",
        "    circle: primitiva, sendo ela um círculo\n",
        "  Returns:\n",
        "    triangles (list): lista com os vértices dos triângulos\n",
        "  '''\n",
        "\n",
        "  triangles = []\n",
        "  points = []\n",
        "  slices = 20\n",
        "\n",
        "  for i in range(slices):\n",
        "    # somei ao centro pois o círculo não está necessariamente centrado na origem\n",
        "    # centro + ((2πR * fatia)/(total de fatias))\n",
        "    x = circle[\"center\"][0] + (circle[\"radius\"] * np.cos((2 * np.pi * i) / slices))\n",
        "    y = circle[\"center\"][1] + (circle[\"radius\"] * np.sin((2 * np.pi * i) / slices)) \n",
        "    point = [x, y]\n",
        "    points.append(point)\n",
        "\n",
        "  for i in range(slices):\n",
        "    A = circle[\"center\"].copy()     # centro\n",
        "    B = points[i].copy()            # ponto i na circunferência\n",
        "    C = points[(i+1)%slices].copy() # ponto i+1 na circuferência (ao fechar o comprimento, novamente o primeiro ponto)\n",
        "    triangles.append([A, B, C])\n",
        "\n",
        "  return triangles"
      ],
      "execution_count": 79,
      "outputs": []
    },
    {
      "cell_type": "code",
      "metadata": {
        "id": "Bih_2VVaG2Gk"
      },
      "source": [
        "# TRANSFORMAÇÃO AFIM\n",
        "\n",
        "def circleTransformation(primitive):\n",
        "  '''Aplica a transformação afim nos triângulos obtidos na triangularização do círculo'''\n",
        "\n",
        "  transTri = []\n",
        "\n",
        "  for triangle in primitive[\"triangulation\"]:\n",
        "    dic = {} # dicionário criado para atender o argumento da função \"transformation()\" já existente\n",
        "    dic[\"xform\"] = primitive[\"xform\"]\n",
        "    dic[\"vertices\"] = triangle\n",
        "    transformation(dic)\n",
        "    transTri.append(dic[\"transVertices\"]) # nova chave para indicar os vértices transformados de cada triângulo\n",
        "\n",
        "  primitive[\"transTriangles\"] = transTri\n",
        "\n",
        "  return  \n",
        "\n",
        "# ----------------- \n",
        "\n",
        "def transformation(primitive):\n",
        "  '''Aplica a transformação afim em polígonos'''\n",
        "\n",
        "  transMatrix = primitive[\"xform\"]\n",
        "  vertices = primitive[\"vertices\"].copy()\n",
        "  trans = []\n",
        "\n",
        "  for vertice in vertices: # aplicação da transformação afim\n",
        "    x = vertice[0]\n",
        "    y = vertice[1]\n",
        "    xNew = transMatrix[0][0] * x + transMatrix[0][1] * y + transMatrix[0][2] * 1\n",
        "    yNew = transMatrix[1][0] * x + transMatrix[1][1] * y + transMatrix[1][2] * 1\n",
        "    xNew = int(xNew)\n",
        "    yNew = int(yNew)\n",
        "    trans.append([xNew, yNew])\n",
        "  \n",
        "  primitive[\"transVertices\"] = trans # nova chave para indicar os vértices transformados\n",
        "\n",
        "  return"
      ],
      "execution_count": 4,
      "outputs": []
    },
    {
      "cell_type": "code",
      "metadata": {
        "id": "nYwPHgkC2-IX"
      },
      "source": [
        "# CRIAÇÃO DA BOUNDING BOX\n",
        "\n",
        "def bBoxMultTriangles(primitive):\n",
        "  '''Encontra a bounding box para uma coleção de triângulos resultantes da triangularização de um círculo transformado\n",
        "  \n",
        "  Returns:\n",
        "    xMin, xMax, yMin, yMax (int): delimitações inferiores e superiores de cada coordenada\n",
        "  '''\n",
        "  x = y = []\n",
        "\n",
        "  #salva todos os x e y de todos os triângulos em suas respectivas listas\n",
        "  for triangle in primitive[\"transTriangles\"]:\n",
        "    for vertice in triangle:\n",
        "      x.append(int(vertice[0]))\n",
        "      y.append(int(vertice[1]))\n",
        "\n",
        "  # encontra os maiores e menores x's e y's\n",
        "  xMin = min(x)\n",
        "  xMax = max(x)\n",
        "  yMin = min(y)\n",
        "  yMax = max(y)\n",
        "\n",
        "  return xMin, xMax, yMin, yMax\n",
        "\n",
        "# ----------------- \n",
        "\n",
        "def boundingBox(primitive): # consiste em pegar os maiores e menores x's e y's\n",
        "  '''Encontra a bounding box para polígonos por meio dos novos vértices, e para círculos por meio do centro e do raio\n",
        "  \n",
        "  Returns:\n",
        "    ([xMin, xMax], [yMin, yMax]) (tuple): delimitações inferiores e superiores de cada coordenada, já em formato de pontos\n",
        "  '''\n",
        "  \n",
        "  if (primitive[\"shape\"] == \"circle\"):\n",
        "    if \"xform\" in primitive:\n",
        "      xMin, xMax, yMin, yMax = bBoxMultTriangles(primitive)        \n",
        "      \n",
        "    else:\n",
        "      center = primitive[\"center\"]\n",
        "      radius = primitive[\"radius\"]\n",
        "\n",
        "      # encontra os maiores e menores x's e y's somando/diminuindo o raio ao/do centro do círculo\n",
        "      xMin = center[0] - radius\n",
        "      xMax = center[0] + radius\n",
        "      yMin = center[1] - radius\n",
        "      yMax = center[1] + radius\n",
        "\n",
        "  else: # caso dos polígonos\n",
        "    if \"xform\" in primitive:\n",
        "      points = primitive[\"transVertices\"].copy()\n",
        "    else:\n",
        "      points = primitive[\"vertices\"].copy()\n",
        "\n",
        "    # encontra os maiores e menores x's e y's\n",
        "    xMin = min(vertice[0] for vertice in points)\n",
        "    xMax = max(vertice[0] for vertice in points)\n",
        "    yMin = min(vertice[1] for vertice in points)\n",
        "    yMax = max(vertice[1] for vertice in points)\n",
        "\n",
        "  return ([xMin, xMax], [yMin, yMax])"
      ],
      "execution_count": 5,
      "outputs": []
    },
    {
      "cell_type": "code",
      "metadata": {
        "id": "8Q30CDAOgA2W"
      },
      "source": [
        "# CHECAGEM DO PONTO DENTRO DA PRIMITIVA\n",
        "\n",
        "def buildsVector(pointA, pointB):\n",
        "  ''' Constrói um vetor a partir de dois pontos A e B\n",
        "\n",
        "    Args:\n",
        "      point A (list): Lista com um ponto (coordenadas x e y)\n",
        "      point B (list): Lista com um ponto (coordenadas x e y)\n",
        "\n",
        "    Returns:\n",
        "      vector (array): Vetor a partir dos pontos A e B\n",
        "    '''\n",
        "  vector = np.zeros(2)\n",
        "\n",
        "  iA = pointA[0]\n",
        "  jA = pointA[1]\n",
        "  iB = pointB[0]\n",
        "  jB = pointB[1]\n",
        "\n",
        "  # Cálculo do vetor separado por coordenadas por meio da conta: AB = B - A\n",
        "  vector[0] = iB-iA\n",
        "  vector[1] = jB-jA\n",
        "\n",
        "  return vector\n",
        "  \n",
        "# -----------------\n",
        "\n",
        "def findNormal(vector):\n",
        "  ''' Calcula o vetor normal a um vetor\n",
        "\n",
        "    Args:\n",
        "      vector (array): Vetor de um vértice a outro\n",
        "\n",
        "    Returns:\n",
        "      normal (array): Vetor normal a partir do vetor original\n",
        "    '''\n",
        "  normal = np.zeros(2)\n",
        "  \n",
        "  i = vector[0]\n",
        "  j = vector[1]\n",
        "  \n",
        "  # rotação anti-horária\n",
        "  normal[0] = -j\n",
        "  normal[1] = i\n",
        "\n",
        "  return normal\n",
        "\n",
        "# -----------------  \n",
        "\n",
        "def insidePolygon(x, y, vertices): # para rotação no sentido anti-horário\n",
        "  '''Checa se o ponto (x,y) está dentro do polígono convexo.\n",
        "  \n",
        "  Args:\n",
        "    x (float): horizontal point position\n",
        "    y (float): vertical point position\n",
        "    vertices (list): lista de vértices do polígono\n",
        "  Returns:\n",
        "    False se (x,y) não está dentro do polígono, True caso contrário\n",
        "  '''\n",
        "\n",
        "  #inicialização de variáveis\n",
        "  vectors = [] #lista que vai conter vetores originais do polígono\n",
        "  vectorsToPoint = [] #lista que vai conter vetores dos vértices originais ao ponto desejado\n",
        "  normals = [] #lista que vai conter vetores normais aos vetores originais do polígono\n",
        "  alfas = [] #lista que vai conter o resultado do produto interno entre vetores originais e vetores com o ponto desejado\n",
        "  \n",
        "  # Ajustando o ponto\n",
        "  p = np.array([x,y])\n",
        "\n",
        "  for i in range(len(vertices)):\n",
        "    # Construindo os vetores do polígono\n",
        "    # combina vertices (1, 2), (2, 3), ..., (n-1, n), (n, 1)\n",
        "    vectors.append(buildsVector(vertices[i], vertices[(i+1)%len(vertices)]))\n",
        "\n",
        "    # Construindo os vetores de cada vértice ao ponto\n",
        "    # combina vertices (1, p), (2, p), ..., (n, p)\n",
        "    vectorsToPoint.append(buildsVector(vertices[i], p))\n",
        "\n",
        "  # Encontrando as normais aos vetores do triângulo\n",
        "  for vector in vectors:\n",
        "    normals.append(findNormal(vector))\n",
        "\n",
        "  # Produto interno das normais de cada vetor do triângulo com os vetores dos vértices aos pontos\n",
        "  for i in range(len(normals)):\n",
        "    alfas.append(normals[i] @ vectorsToPoint[i])\n",
        "    # exemplo: alfaAB = nAB @ Ap\n",
        "\n",
        "  # Se todos os alfas forem positivos, sinal de que o ângulo é agudo e o ponto está dentro do triângulo\n",
        "  for alfa in alfas:\n",
        "    if (alfa < 0):\n",
        "      return False\n",
        "\n",
        "  return True\n",
        "\n",
        "  # -----------------  \n",
        "\n",
        "def inside(x, y, primitive):\n",
        "  \"\"\"\n",
        "  Check if point (x,y) is inside the primitive\n",
        "  \n",
        "  Args:\n",
        "    x (float): horizontal point position\n",
        "    y (float): vertical point position\n",
        "  Returns:\n",
        "    True if (x,y) is inside the primitive, False case contrary\n",
        "  \"\"\"\n",
        "  \n",
        "  # You should implement your inside test here for all shapes   \n",
        "  # for now, it only returns a false test\n",
        "\n",
        "  if \"xform\" in primitive:\n",
        "\n",
        "    # se for um círculo transformado\n",
        "    if (primitive[\"shape\"] == \"circle\"):\n",
        "      for triangle in primitive[\"transTriangles\"]:\n",
        "        if (insidePolygon(x, y, triangle) == True):\n",
        "          return True\n",
        "      return False  \n",
        "\n",
        "    # se for um polígono transformado  \n",
        "    else:\n",
        "      if (insidePolygon(x, y, primitive[\"transVertices\"]) == True):\n",
        "        return True\n",
        "      return False\n",
        "\n",
        "\n",
        "  # se for um círculo sem transformação\n",
        "  if (primitive[\"shape\"] == \"circle\"):\n",
        "    for triangle in primitive[\"triangulation\"]:\n",
        "      if (insidePolygon(x, y, triangle) == True):\n",
        "        return True\n",
        "\n",
        "  # se for um polígono sem transformação\n",
        "  else:\n",
        "    vertices = primitive[\"vertices\"].copy()\n",
        "    if (insidePolygon(x, y, vertices) == True):\n",
        "      return True\n",
        "    return False\n",
        "\n",
        "  return False"
      ],
      "execution_count": 47,
      "outputs": []
    },
    {
      "cell_type": "code",
      "metadata": {
        "id": "XWF615OzWWlu"
      },
      "source": [
        "def insideTriangle(x, y, triangle): # para rotação no sentido anti-horário\n",
        "\n",
        "  #inicialização de variáveis\n",
        "  AB = BC = CA = np.zeros(2, int)\n",
        "  Ap = Bp = Cp = np.zeros(2, int)\n",
        "  nAB = nBC = nCA = np.zeros(2, int)\n",
        "  alfaAB = alfaBC = alfaCA = 0\n",
        "  p = np.array([x,y])\n",
        "\n",
        "  # Ajustando os vertices e o ponto\n",
        "  # Ajustando os vértices e o ponto\n",
        "  A = triangle[0]\n",
        "  B = triangle[1]\n",
        "  C = triangle[2]\n",
        "\n",
        "  Ap = buildsVector(A, p)\n",
        "  Bp = buildsVector(B, p)\n",
        "  Cp = buildsVector(C, p)\n",
        "\n",
        "  # Encontrando as normais dos vetores do triângulo\n",
        "  # Encontrando as normais (para dentro) aos vetores do triângulo\n",
        "  nAB = findNormal(AB)\n",
        "  nBC = findNormal(BC)\n",
        "  nCA = findNormal(CA)\n",
        "\n",
        "  # Dot product das normais de cada vetor do triângulo com os vetores dos vértices aos pontos\n",
        "  # Produto interno das normais de cada vetor do triângulo com os vetores dos vértices aos pontos\n",
        "  alfaAB = nAB @ Ap\n",
        "  alfaBC = nBC @ Bp\n",
        "  alfaCA = nCA @ Cp\n",
        "\n",
        "  # Se todos os alfas forem positivos, sinal de que o ângulo é agudo e o ponto está dentro do triângulo\n",
        "  if (alfaAB >= 0 and alfaBC >= 0 and alfaCA >= 0):\n",
        "    return True\n",
        "\n",
        "  return False"
      ],
      "execution_count": 19,
      "outputs": []
    },
    {
      "cell_type": "code",
      "metadata": {
        "id": "RPhF5veRZ6S-"
      },
      "source": [
        "class Screen:\n",
        "  ''' Creates a virtual basic screen\n",
        "\n",
        "    Args:\n",
        "        gdata (dict): dictionary containing screen size and scene description\n",
        "    '''\n",
        "\n",
        "  def __init__(self, gdata):\n",
        "    self._width = gdata.get(\"width\")\n",
        "    self._height = gdata.get(\"height\")\n",
        "    self._scene = self.preprocess( gdata.get(\"scene\") )\n",
        "    self.create_image()\n",
        "\n",
        "  def preprocess(self, scene):\n",
        "    ''' Se a primitiva for um círculo, ela o triangulariza. \n",
        "        Se a primitiva possuir transformação afim, ela a transforma.\n",
        "\n",
        "    Args:\n",
        "      scene (dict): Scene containing the graphic primitives\n",
        "\n",
        "    Returns:\n",
        "      scene (dict): Scene containing the graphic primitives with additional info\n",
        "    '''\n",
        "\n",
        "    # Possible preprocessing with scene primitives, for now we don't change anything\n",
        "    # You may define bounding boxes, convert shapes, etc\n",
        "    preprop_scene = []\n",
        "\n",
        "    for primitive in scene:\n",
        "      # do some processing\n",
        "      # for now, only copies each primitive to a new list\n",
        "\n",
        "\n",
        "      # executa a triangularização do círculo\n",
        "      if (primitive[\"shape\"] == \"circle\"):\n",
        "        triangles = circleTriangulation(primitive)\n",
        "        primitive[\"triangulation\"] = triangles\n",
        "\n",
        "\n",
        "      # executa a transformação na primitiva (opções: círculo ou qualquer polígono)\n",
        "      if \"xform\" in primitive:\n",
        "        if (primitive[\"shape\"] == \"circle\"):\n",
        "         circleTransformation(primitive)  \n",
        "\n",
        "        else:\n",
        "          transformation(primitive)  \n",
        "      \n",
        "      preprop_scene.append(primitive)\n",
        "\n",
        "    return preprop_scene\n",
        "\n",
        "  def create_image(self):\n",
        "    ''' Creates image with white background \n",
        "    \n",
        "    Returns \n",
        "      image (numpy array): White image with R, G, B channels\n",
        "    '''\n",
        "\n",
        "    self._image = 255 * np.ones((self._height, self._width, 3), np.uint8)\n",
        "\n",
        "  def rasterize(self):\n",
        "    ''' Rasterize the primitives along the Screen.\n",
        "        Define uma bounding box para cada primitiva.    \n",
        "    '''\n",
        "\n",
        "    for primitive in self._scene:\n",
        "\n",
        "      # define uma bounding box\n",
        "      bBox = boundingBox(primitive)\n",
        "\n",
        "      # não está nos exemplos, mas casos em que a bounding box tenha cordenadas negativas, esse trecho limita ao primeiro quadrante (afinal, não há pixels negativos)\n",
        "      for j in range(2):\n",
        "        for i in range(2):\n",
        "          if bBox[i][j] < 0: bBox[i][j] = 0\n",
        "\n",
        "    # Loop through all pixels\n",
        "    # You MUST use bounding boxes in order to speed up this loop\n",
        "      for w in range(bBox[0][0], bBox[0][1]):\n",
        "        x = w + 0.5\n",
        "        for h in range(bBox[1][0], bBox[1][1]):\n",
        "          y = h + 0.5\n",
        "          # First, we check if the pixel center is inside the primitive\n",
        "          if ( inside(x, y, primitive) ):\n",
        "            im_x, im_y = w, self._height - (h + 1)\n",
        "            self._image[im_y, im_x] = primitive['color'][::-1]\n",
        "        \n",
        "\n",
        "  def show(self, exec_rasterize = False):\n",
        "    ''' Show the virtual Screen    \n",
        "    '''\n",
        "\n",
        "    if (exec_rasterize):\n",
        "      self.rasterize()\n",
        "      \n",
        "    cv2_imshow(self._image)"
      ],
      "execution_count": 34,
      "outputs": []
    },
    {
      "cell_type": "markdown",
      "metadata": {
        "id": "JsSbaVi720LE"
      },
      "source": [
        "# Virtual Screen "
      ]
    },
    {
      "cell_type": "markdown",
      "metadata": {
        "id": "ved1pcTW6aYv"
      },
      "source": [
        "### Initialization"
      ]
    },
    {
      "cell_type": "code",
      "metadata": {
        "id": "4dzokiPNQYWv"
      },
      "source": [
        "screen = Screen(graphic_data)"
      ],
      "execution_count": 110,
      "outputs": []
    },
    {
      "cell_type": "markdown",
      "metadata": {
        "id": "oJVOidWA3K-O"
      },
      "source": [
        "### Rasterization and raster graphic visualization"
      ]
    },
    {
      "cell_type": "code",
      "metadata": {
        "colab": {
          "base_uri": "https://localhost:8080/",
          "height": 398
        },
        "id": "9vupa7VhatzO",
        "outputId": "d946fb5b-7e77-4427-8b04-188617da100c"
      },
      "source": [
        "screen.show(True)"
      ],
      "execution_count": 111,
      "outputs": [
        {
          "output_type": "display_data",
          "data": {
            "image/png": "[encoded data removed]",
            "text/plain": [
              "<PIL.Image.Image image mode=RGB size=250x381 at 0x7FA493975F90>"
            ]
          },
          "metadata": {
            "tags": []
          }
        }
      ]
    }
  ]
}